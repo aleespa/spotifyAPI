{
 "cells": [
  {
   "cell_type": "code",
   "execution_count": null,
   "metadata": {},
   "outputs": [],
   "source": [
    "import pandas as pd\n",
    "import spotipy\n",
    "import numpy as np\n",
    "import spotipy.util as util\n",
    "import seaborn as sns\n",
    "import matplotlib.pyplot as plt\n",
    "scope = 'user-library-read user-follow-read'\n",
    "username = ''\n",
    "token = util.prompt_for_user_token(username,scope,\n",
    "                           client_id='',\n",
    "                           client_secret='',\n",
    "                           redirect_uri='')\n",
    "sp = spotipy.Spotify(auth=token)\n",
    "% matplotlib inline "
   ]
  },
  {
   "cell_type": "code",
   "execution_count": null,
   "metadata": {
    "scrolled": false
   },
   "outputs": [],
   "source": [
    "anterior = None\n",
    "pop = pd.DataFrame(columns=['Artista','Popularidad'])\n",
    "for y in range(4):\n",
    "    artists = sp.current_user_followed_artists(limit=50,after=anterior)\n",
    "    anterior = artists['artists']['items'][-1]['id']\n",
    "    for i in range(len(artists['artists']['items'])):\n",
    "        art_id=artists['artists']['items'][i]['id']\n",
    "        A = min([str(sp.artist_albums(art_id,limit=50)['items'][x]['release_date'])[:4] for x in range(len(sp.artist_albums(art_id,limit=50)['items']))])\n",
    "        pop = pop.append({'Artista':artists['artists']['items'][i]['name'],\n",
    "                          'Popularidad':artists['artists']['items'][i]['popularity'],\n",
    "                         'Año':A},\n",
    "                        ignore_index=True)\n",
    "        print (artists['artists']['items'][i]['name'] ,A)"
   ]
  },
  {
   "cell_type": "code",
   "execution_count": null,
   "metadata": {},
   "outputs": [],
   "source": [
    "anterior = None\n",
    "pop = pd.DataFrame(columns=['Artista','Popularidad','Anio'])\n",
    "for y in range(4):\n",
    "    artists = sp.current_user_followed_artists(limit=50,after=anterior)\n",
    "    anterior = artists['artists']['items'][-1]['id']\n",
    "    for i in range(len(artists['artists']['items'])):\n",
    "        art_id=artists['artists']['items'][i]['id']\n",
    "        A = min([str(sp.artist_albums(art_id,limit=50)['items'][x]['release_date'])[:4] for x in range(len(sp.artist_albums(art_id,limit=50)['items']))])\n",
    "        pop = pop.append({'Artista':artists['artists']['items'][i]['name'],\n",
    "                          'Popularidad':artists['artists']['items'][i]['popularity'],\n",
    "                         'Anio':A},\n",
    "                        ignore_index=True)\n",
    "        print (artists['artists']['items'][i]['name'] ,A)"
   ]
  },
  {
   "cell_type": "code",
   "execution_count": null,
   "metadata": {},
   "outputs": [],
   "source": [
    "sns.distplot([int(x) for x in pop['Popularidad']],bins=10,axlabel='Popularidad')"
   ]
  },
  {
   "cell_type": "code",
   "execution_count": null,
   "metadata": {},
   "outputs": [],
   "source": [
    "sns.jointplot(x=\"Anio\", y=\"Popularidad\", data=pop, kind=\"kde\",ylim=(15,100),)"
   ]
  }
 ],
 "metadata": {
  "kernelspec": {
   "display_name": "Python 2",
   "language": "python",
   "name": "python2"
  },
  "language_info": {
   "codemirror_mode": {
    "name": "ipython",
    "version": 2
   },
   "file_extension": ".py",
   "mimetype": "text/x-python",
   "name": "python",
   "nbconvert_exporter": "python",
   "pygments_lexer": "ipython2",
   "version": "2.7.15rc1"
  }
 },
 "nbformat": 4,
 "nbformat_minor": 2
}
